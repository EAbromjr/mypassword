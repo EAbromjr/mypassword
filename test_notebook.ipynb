{
 "cells": [
  {
   "cell_type": "code",
   "execution_count": 1,
   "metadata": {},
   "outputs": [
    {
     "name": "stdout",
     "output_type": "stream",
     "text": [
      "0 0\n"
     ]
    }
   ],
   "source": [
    "import math\n",
    "\n",
    "class Point():\n",
    "    def move(self, x, y):\n",
    "        self.x = x\n",
    "        self.y = y\n",
    "    \n",
    "    def reset(self):\n",
    "        self.move(0, 0)\n",
    "\n",
    "    def calculate_distance(self, other_point):\n",
    "        return math.sqrt(\n",
    "            (self.x - other_point.x)**2 +\n",
    "            (self.y - other_point.y)**2\n",
    "        )\n",
    "\n",
    "p = Point()\n",
    "p.reset()\n",
    "print(p.x, p.y)"
   ]
  }
 ],
 "metadata": {
  "kernelspec": {
   "display_name": "Python 3",
   "language": "python",
   "name": "python3"
  },
  "language_info": {
   "name": "python",
   "version": "3.12.3"
  }
 },
 "nbformat": 4,
 "nbformat_minor": 2
}
